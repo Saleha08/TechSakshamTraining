{
 "cells": [
  {
   "cell_type": "code",
   "execution_count": null,
   "id": "1155ca0b-6dc9-433e-8639-9192d6b13209",
   "metadata": {},
   "outputs": [],
   "source": [
    "\"\"\"\n",
    "r- is use to read the file\n",
    "x- is use to create the file\n",
    "w- is use to write file in data\n",
    "a-is use to append data into the file and its also create a file\n",
    "open- is use to open the file for operations\n",
    "close-is use to close the file opeartions\n",
    "read- use to read the file \n",
    "readline-use to read a single line \n",
    "readlines-use to read the multiple lines \n",
    "\n",
    "syntax \n",
    "variable=open(file path,mode)\n",
    "\"\"\"\n"
   ]
  },
  {
   "cell_type": "code",
   "execution_count": 1,
   "id": "6b9b2658-959c-417b-a65b-893a98d70d15",
   "metadata": {},
   "outputs": [],
   "source": [
    "f=open(\"Desktop/File_Handling//first.txt\",\"x\")"
   ]
  },
  {
   "cell_type": "code",
   "execution_count": 2,
   "id": "0f554f69-0fef-429e-b59d-a607a7e7fa54",
   "metadata": {},
   "outputs": [],
   "source": [
    "f=open(\"Desktop/File_Handling//second.txt\",\"x\")"
   ]
  },
  {
   "cell_type": "code",
   "execution_count": 72,
   "id": "4e7dd3f7-92b9-42d4-90ae-5e58fee5e990",
   "metadata": {},
   "outputs": [],
   "source": [
    "f=open(\"Desktop/File_Handling//second.txt\",\"w\")\n",
    "f.write(\"This is my first file in which i am writing a data...\")\n",
    "f.close()"
   ]
  },
  {
   "cell_type": "code",
   "execution_count": 71,
   "id": "1cb6e614-1938-43dc-9c1e-811c777ddb80",
   "metadata": {},
   "outputs": [],
   "source": [
    "f=open(\"Desktop/File_Handling//second.txt\",\"r\")\n",
    "f.read()\n",
    "f.close()"
   ]
  },
  {
   "cell_type": "code",
   "execution_count": 70,
   "id": "7caf7560-185f-4154-baf3-d0619f48d041",
   "metadata": {},
   "outputs": [],
   "source": [
    "f=open(\"Desktop/File_Handling//second.txt\",\"w\")\n",
    "f.write(\"Second Time I am writing something in this file....\")\n",
    "f.close()"
   ]
  },
  {
   "cell_type": "code",
   "execution_count": 69,
   "id": "1f7f4a2e-8163-46f2-90f5-0d229ecde161",
   "metadata": {},
   "outputs": [],
   "source": [
    "f=open(\"Desktop/File_Handling//second.txt\",\"r\")\n",
    "f.read()\n",
    "f.close()"
   ]
  },
  {
   "cell_type": "code",
   "execution_count": 68,
   "id": "724158c1-b7f3-4842-8925-445f9adaeb48",
   "metadata": {},
   "outputs": [],
   "source": [
    "f=open(\"Desktop/File_Handling//second.txt\",\"a\")\n",
    "f.write(\"Something new is here...\")\n",
    "f.close()"
   ]
  },
  {
   "cell_type": "code",
   "execution_count": 67,
   "id": "7896b251-966c-4ec8-924d-a6351f1fad81",
   "metadata": {},
   "outputs": [],
   "source": [
    "f=open(\"Desktop/File_Handling//third.txt\",\"a\")\n",
    "f.write(\"My name is Saleha Ansari.I live in solapur\")\n",
    "f.close()"
   ]
  },
  {
   "cell_type": "code",
   "execution_count": 1,
   "id": "5ef4fa26-dc65-4cc8-b89b-0581316240aa",
   "metadata": {},
   "outputs": [
    {
     "name": "stdout",
     "output_type": "stream",
     "text": [
      "0\n"
     ]
    }
   ],
   "source": [
    "name=input(\"Enter Your Name:\")\n",
    "year=int(input(\"Enter year in which you are studying:\")\n",
    "roll_no=input(\"Enter your roll no:\")\n",
    "age=input(\"Enter your age:\")"
   ]
  },
  {
   "cell_type": "code",
   "execution_count": 66,
   "id": "a719f16c-e7a1-47a3-8a64-a24ef8c788ed",
   "metadata": {},
   "outputs": [],
   "source": [
    "f=open(\"Desktop/File_Handling//StudentData.txt\",\"r\")\n",
    "f.read()\n",
    "f.close()"
   ]
  },
  {
   "cell_type": "code",
   "execution_count": 11,
   "id": "f86cfc68-5580-4523-bef3-3618783fc9c7",
   "metadata": {},
   "outputs": [
    {
     "name": "stdin",
     "output_type": "stream",
     "text": [
      "Enter your full name:  SALEHA ANSARI\n",
      "Enter year in which you are studying:  TY\n",
      "Enter your roll no:  5\n",
      "Enter your age:  20\n"
     ]
    },
    {
     "data": {
      "text/plain": [
       "7"
      ]
     },
     "execution_count": 11,
     "metadata": {},
     "output_type": "execute_result"
    }
   ],
   "source": [
    "f = open(\"Desktop/File_Handling/StudentData.txt\", \"a\")\n",
    "\n",
    "name = input(\"Enter your full name: \")\n",
    "year = input(\"Enter year in which you are studying: \")\n",
    "roll_no = int(input(\"Enter your roll no: \"))\n",
    "age = int(input(\"Enter your age: \"))\n",
    "\n",
    "f.write(f\"Name: {name}\\n\")\n",
    "f.write(f\"Class: {year}\\n\")\n",
    "f.write(f\"Roll Number: {roll_no}\\n\")\n",
    "f.write(f\"Age: {age}\\n\")\n",
    "f.write(\"******\\n\") \n",
    "f.close()\n",
    "\n",
    "\n"
   ]
  },
  {
   "cell_type": "code",
   "execution_count": 65,
   "id": "c03d9677-9d88-44b6-85fa-9ec2518eba12",
   "metadata": {},
   "outputs": [
    {
     "name": "stdin",
     "output_type": "stream",
     "text": [
      "Enter your name: saleha\n",
      "Enter your full name: saleha ansari\n",
      "Enter your age: 20\n",
      "Enter yoy college name: wit\n",
      "Enter your hobbies: rtyiukj\n"
     ]
    }
   ],
   "source": [
    "name=input(\"Enter your name:\")\n",
    "f=open(f\"Desktop/File_Handling//{name}.txt\",\"a\")\n",
    "f_name=input(\"Enter your full name:\")\n",
    "f_age=int(input(\"Enter your age:\"))\n",
    "clg=input(\"Enter yoy college name:\")\n",
    "hobby=input(\"Enter your hobbies:\")\n",
    "f.write(f\"Name: {f_name}\\n\")\n",
    "f.write(f\"Class: {f_age}\\n\")\n",
    "f.write(f\"Roll Number: {clg}\\n\")\n",
    "f.write(\"******\\n\") \n",
    "f.close()"
   ]
  },
  {
   "cell_type": "code",
   "execution_count": 62,
   "id": "f8641ef0-e364-4fb2-a161-93948a655cbb",
   "metadata": {},
   "outputs": [
    {
     "name": "stdout",
     "output_type": "stream",
     "text": [
      "There are 5 lines in the file..\n",
      "file has 60 letters\n"
     ]
    }
   ],
   "source": [
    "f=open(\"Desktop/File_Handling//third.txt\",\"r\")\n",
    "count=0\n",
    "word=0\n",
    "for i in f.readlines():\n",
    "    for j in i:\n",
    "        if j!=\" \":\n",
    "         word+=1\n",
    "    count+=1\n",
    "print(f\"There are {count} lines in the file..\")\n",
    "print(f\"file has {word} letters\")\n",
    "f.close()"
   ]
  },
  {
   "cell_type": "code",
   "execution_count": 63,
   "id": "de3081c1-4e96-4528-bc02-1c4ac2bdb349",
   "metadata": {},
   "outputs": [
    {
     "name": "stdout",
     "output_type": "stream",
     "text": [
      "words: 16\n",
      "Total number of letters including spacea are 73\n",
      "13 are spaces and 60 are letters in the file\n",
      "Number of vowels is : 23\n",
      "Number of consonents is: 37\n"
     ]
    }
   ],
   "source": [
    "f=open(\"Desktop/File_Handling//third.txt\",\"r\")\n",
    "count=0\n",
    "a=f.readlines()\n",
    "for i in a:\n",
    "    count+=1\n",
    "\n",
    "c1=0\n",
    "for i in range(len(a)):\n",
    "    c1+=len(a[i].split())\n",
    "print(\"words:\",c1)\n",
    "\n",
    "c2=0\n",
    "for i in range(len(a)):\n",
    "    c2+=len(a[i])\n",
    "print(f\"Total number of letters including spacea are {c2}\")\n",
    "\n",
    "c3=0\n",
    "c4=0\n",
    "v=['a','e','i','o','u','A','O','I','E','U']\n",
    "vowels=0\n",
    "consonants=0\n",
    "for i in a:\n",
    "    for j in i:\n",
    "        if j==\" \":\n",
    "            c3+=1\n",
    "        else:\n",
    "            if j in v:\n",
    "                vowels+=1\n",
    "            else:\n",
    "                consonants+=1\n",
    "            c4+=1\n",
    "print(f\"{c3} are spaces and {c4} are letters in the file\")\n",
    "print(\"Number of vowels is :\",vowels)\n",
    "print(\"Number of consonents is:\",consonants)\n",
    "f.close()\n",
    "\n",
    "\n"
   ]
  },
  {
   "cell_type": "code",
   "execution_count": 60,
   "id": "0755d5cb-a8c5-4579-b124-e5be6da06208",
   "metadata": {},
   "outputs": [
    {
     "name": "stdin",
     "output_type": "stream",
     "text": [
      "Enter file name:  third\n",
      "Enter the word to search in the file:  is\n"
     ]
    },
    {
     "name": "stdout",
     "output_type": "stream",
     "text": [
      "is is present in line 3\n"
     ]
    }
   ],
   "source": [
    "file = input(\"Enter file name: \")\n",
    "f = open(f\"Desktop/File_Handling/{file}.txt\", \"r\") \n",
    "count = 0\n",
    "word = input(\"Enter the word to search in the file: \")\n",
    "found = False\n",
    "\n",
    "for line in f: \n",
    "    count += 1\n",
    "    a=line.split()\n",
    "    if word in line.split(): \n",
    "        print(f\"{word} is present in line {count}\")\n",
    "        found = True\n",
    "        break\n",
    "\n",
    "if not found:\n",
    "    print(f\"{word} was not found in the file.\")\n",
    "\n",
    "f.close()\n",
    "\n"
   ]
  },
  {
   "cell_type": "code",
   "execution_count": 59,
   "id": "92d601e0-4fc1-4830-a808-7f77cf15128a",
   "metadata": {},
   "outputs": [],
   "source": [
    "import os\n",
    "os.remove(\"Desktop/File_Handling//first.txt\")"
   ]
  },
  {
   "cell_type": "code",
   "execution_count": null,
   "id": "835122b2-3baa-486e-8c77-a421f00b6ff5",
   "metadata": {},
   "outputs": [],
   "source": []
  }
 ],
 "metadata": {
  "kernelspec": {
   "display_name": "Python 3 (ipykernel)",
   "language": "python",
   "name": "python3"
  },
  "language_info": {
   "codemirror_mode": {
    "name": "ipython",
    "version": 3
   },
   "file_extension": ".py",
   "mimetype": "text/x-python",
   "name": "python",
   "nbconvert_exporter": "python",
   "pygments_lexer": "ipython3",
   "version": "3.12.1"
  }
 },
 "nbformat": 4,
 "nbformat_minor": 5
}
