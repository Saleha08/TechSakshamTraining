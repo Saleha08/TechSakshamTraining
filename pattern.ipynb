{
 "cells": [
  {
   "cell_type": "code",
   "execution_count": 1,
   "id": "3b1fd982-4343-420f-8002-d925e4b10048",
   "metadata": {},
   "outputs": [
    {
     "name": "stdout",
     "output_type": "stream",
     "text": [
      "      a \n",
      "    b b b \n",
      "  c c c c c \n",
      "d d d d d d d \n"
     ]
    }
   ],
   "source": [
    "\"\"\"\n",
    "      a\n",
    "    b b b\n",
    "  c c c c c\n",
    "d d d d d d d\n",
    "\n",
    "\"\"\"\n",
    "row=1\n",
    "while row<=4:\n",
    "    cols=1\n",
    "    while cols<=4-row:\n",
    "        print(\" \",end=\" \")\n",
    "        cols+=1\n",
    "    col=1\n",
    "    while col<2*row:\n",
    "        print(chr(96+row),end=\" \")\n",
    "        col+=1\n",
    "    row+=1\n",
    "    print()\n",
    "        \n",
    "        \n",
    "        \n"
   ]
  },
  {
   "cell_type": "code",
   "execution_count": 3,
   "id": "8ce84746-228b-4b92-a345-4652d57b6de4",
   "metadata": {},
   "outputs": [
    {
     "name": "stdout",
     "output_type": "stream",
     "text": [
      "      a \n",
      "    a b c \n",
      "  a b c d e \n",
      "a b c d e f g \n"
     ]
    }
   ],
   "source": [
    "row=1\n",
    "while row<=4:\n",
    "    cols=1\n",
    "    while cols<=4-row:\n",
    "        print(\" \",end=\" \")\n",
    "        cols+=1\n",
    "    col=1\n",
    "    while col<2*row:\n",
    "        print(chr(96+col),end=\" \")\n",
    "        col+=1\n",
    "    row+=1\n",
    "    print()\n"
   ]
  },
  {
   "cell_type": "code",
   "execution_count": 10,
   "id": "e416fae0-9451-4f03-992f-2ff692801de7",
   "metadata": {},
   "outputs": [
    {
     "name": "stdin",
     "output_type": "stream",
     "text": [
      "May I know your name sir/maam?:  saleha\n"
     ]
    },
    {
     "name": "stdout",
     "output_type": "stream",
     "text": [
      "-----------Welcome saleha To The XYZ Retaurant----------\n"
     ]
    },
    {
     "name": "stdin",
     "output_type": "stream",
     "text": [
      "Enter your preference for food(Veg or Non veg): nonveg\n"
     ]
    },
    {
     "name": "stdout",
     "output_type": "stream",
     "text": [
      "------Menu for nonveg food with price------\n",
      "{'chicken_biryani': 300, 'butter_chicken': 500, 'chicken_noodles': 150, 'chicken_65': 100}\n"
     ]
    }
   ],
   "source": [
    "name=input(\"May I know your name sir/maam?: \")\n",
    "print(f\"-----------Welcome {name} To The XYZ Retaurant----------\")\n",
    "veg={'paneer_masala':100,'kaju_masala':150,'paneer_tikka_masala':200,'dal_chawal':150}\n",
    "nonVeg={'chicken_biryani':300,'butter_chicken':500,'chicken_noodles':150,'chicken_65':100}\n",
    "\n",
    "userInput=input(\"Enter your preference for food(Veg or Non veg):\")\n",
    "if userInput=='veg':\n",
    "    print(\"------Menu for veg food with price------\")\n",
    "    print(veg)\n",
    "elif userInput=='nonveg':\n",
    "    print(\"------Menu for nonveg food with price------\")\n",
    "    print(nonVeg)\n",
    "else:\n",
    "    print(\"Enter proper preference\")\n",
    "\n"
   ]
  },
  {
   "cell_type": "code",
   "execution_count": 11,
   "id": "9fea7fb5-d9f2-4ef3-9b05-38edbaac034a",
   "metadata": {},
   "outputs": [
    {
     "name": "stdin",
     "output_type": "stream",
     "text": [
      "May I know your name sir/maam?:  saleha\n"
     ]
    },
    {
     "name": "stdout",
     "output_type": "stream",
     "text": [
      "-----------Welcome saleha To The XYZ Retaurant----------\n"
     ]
    },
    {
     "name": "stdin",
     "output_type": "stream",
     "text": [
      "what would you like to order veg or nonveg:  nonveg\n"
     ]
    },
    {
     "name": "stdout",
     "output_type": "stream",
     "text": [
      "chicken tikka=300rs to order press 0\n",
      "chicken biryani=200 to order press 1\n",
      "chicken nooodles=200 to order press 2\n"
     ]
    },
    {
     "name": "stdin",
     "output_type": "stream",
     "text": [
      "Enter the value to order food:  1\n"
     ]
    },
    {
     "name": "stdout",
     "output_type": "stream",
     "text": [
      "Your order has placed successfully....\n",
      "chicken biryani=200\n"
     ]
    }
   ],
   "source": [
    "name=input(\"May I know your name sir/maam?: \")\n",
    "print(f\"-----------Welcome {name} To The XYZ Retaurant----------\")\n",
    "food={'veg':[\"paneer masala=240rs\",\"paneer tikka masala=260rs\"],\"nonveg\":[\"chicken tikka=300rs\",\"chicken biryani=200\",\"chicken nooodles=200\"]}\n",
    "sfood=input(\"what would you like to order veg or nonveg: \")\n",
    "c=0\n",
    "for i in food[sfood]:\n",
    "    print(f\"{i} to order press {c}\")\n",
    "    c+=1\n",
    "order=int(input(\"Enter the value to order food: \"))\n",
    "print(\"Your order has placed successfully....\")\n",
    "print(food[sfood][order])"
   ]
  },
  {
   "cell_type": "code",
   "execution_count": null,
   "id": "fe2c2e28-dc59-4660-a869-4dfd6203a26b",
   "metadata": {},
   "outputs": [],
   "source": []
  }
 ],
 "metadata": {
  "kernelspec": {
   "display_name": "Python 3 (ipykernel)",
   "language": "python",
   "name": "python3"
  },
  "language_info": {
   "codemirror_mode": {
    "name": "ipython",
    "version": 3
   },
   "file_extension": ".py",
   "mimetype": "text/x-python",
   "name": "python",
   "nbconvert_exporter": "python",
   "pygments_lexer": "ipython3",
   "version": "3.12.1"
  }
 },
 "nbformat": 4,
 "nbformat_minor": 5
}
