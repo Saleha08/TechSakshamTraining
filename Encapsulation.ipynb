{
 "cells": [
  {
   "cell_type": "code",
   "execution_count": 6,
   "id": "23a497c8-4645-44d5-b6ee-14cf6d74b46a",
   "metadata": {},
   "outputs": [
    {
     "name": "stdout",
     "output_type": "stream",
     "text": [
      "12\n",
      "ABC\n",
      "ABC\n",
      "PQR\n"
     ]
    }
   ],
   "source": [
    "#Encapsulation\n",
    "#public\n",
    "#private __\n",
    "#protected _\n",
    "\n",
    "#private variables\n",
    "class Data:\n",
    "    def __init__(self,__amt):\n",
    "        self.__amt=__amt\n",
    "        print(self.__amt)\n",
    "obj= Data(12)\n",
    "\n",
    "\n",
    "#Public\n",
    "class Data1:\n",
    "    def __init__(self,name):\n",
    "        self.name=name\n",
    "        print(self.name)\n",
    "obj=Data1('ABC')\n",
    "print(obj.name)\n",
    "\n",
    "#protected\n",
    "class Data2:\n",
    "    def __init__(self,_name):\n",
    "        self._name=_name\n",
    "        print(self._name)\n",
    "obj=Data2(\"PQR\")\n"
   ]
  },
  {
   "cell_type": "code",
   "execution_count": 8,
   "id": "2a0f8e81-2d50-4d6e-a987-43b0aea776d7",
   "metadata": {},
   "outputs": [
    {
     "name": "stdout",
     "output_type": "stream",
     "text": [
      "30\n"
     ]
    }
   ],
   "source": [
    "#private with inheritance\n",
    "class A:\n",
    "    def __init__(self,__amt):\n",
    "        self.__amt=__amt\n",
    "    def show1(self):\n",
    "        print(self.__amt)\n",
    "        \n",
    "        \n",
    "class B(A):\n",
    "    def show(self):\n",
    "        print(self.__amt)\n",
    "\n",
    "obj = B(30)\n",
    "obj.show1()\n",
    "    "
   ]
  },
  {
   "cell_type": "code",
   "execution_count": 10,
   "id": "e632c708-3609-46d9-b43d-37f74bf516e1",
   "metadata": {},
   "outputs": [
    {
     "name": "stdout",
     "output_type": "stream",
     "text": [
      "20\n"
     ]
    }
   ],
   "source": [
    "#accessing private variable outside of the class\n",
    "class A:\n",
    "    def __init__(self,__amt):\n",
    "        self.__amt=__amt\n",
    "obj=A(20)\n",
    "print(obj._A__amt)"
   ]
  },
  {
   "cell_type": "code",
   "execution_count": 13,
   "id": "f56e45c1-63ac-4255-bf6f-787f2a7212f5",
   "metadata": {},
   "outputs": [
    {
     "name": "stdout",
     "output_type": "stream",
     "text": [
      "This is a private method...\n",
      "Private\n"
     ]
    }
   ],
   "source": [
    "#private method\n",
    "class A:\n",
    "    def __init__(self,name):\n",
    "        self.name=name\n",
    "        print(self.name)\n",
    "    def __show():\n",
    "        print(\"This is a private method...\")\n",
    "    __show()\n",
    "\n",
    "obj=A(\"Private\")\n",
    "# obj.show()"
   ]
  },
  {
   "cell_type": "code",
   "execution_count": 17,
   "id": "ef10a2d1-d005-4758-9dde-80688ed2bffe",
   "metadata": {},
   "outputs": [
    {
     "name": "stdout",
     "output_type": "stream",
     "text": [
      "calling another method into this method...\n",
      "This is a private method\n"
     ]
    }
   ],
   "source": [
    "class A:\n",
    "    def __show(self):\n",
    "        print(\"This is a private method\")\n",
    "    def call(self):\n",
    "        print(\"calling another method into this method...\")\n",
    "        self.__show()\n",
    "\n",
    "obj=A()\n",
    "obj.call()"
   ]
  },
  {
   "cell_type": "code",
   "execution_count": 18,
   "id": "2241f55f-cb91-46fa-aa7b-f6cf533ae998",
   "metadata": {},
   "outputs": [
    {
     "name": "stdout",
     "output_type": "stream",
     "text": [
      "private method is calling outside the class\n"
     ]
    }
   ],
   "source": [
    "class A:\n",
    "    def __show(self):\n",
    "        print(\"private method is calling outside the class\")\n",
    "\n",
    "obj=A()\n",
    "obj._A__show()"
   ]
  },
  {
   "cell_type": "code",
   "execution_count": 20,
   "id": "5cf2ad2c-d6e5-4f70-bd54-f6cc53e5ad01",
   "metadata": {},
   "outputs": [
    {
     "name": "stdout",
     "output_type": "stream",
     "text": [
      "Second Method\n"
     ]
    }
   ],
   "source": [
    "#polymorphism\n",
    "#method overriding\n",
    "\n",
    "class A:\n",
    "    def show(self):\n",
    "        print(\"First class\")\n",
    "\n",
    "\n",
    "class B(A):\n",
    "    def show(self):\n",
    "        print(\"Second Method\")\n",
    "\n",
    "obj=B()\n",
    "obj.show()"
   ]
  },
  {
   "cell_type": "code",
   "execution_count": 27,
   "id": "e8ddff65-7be5-485c-ad27-ce10b22c8662",
   "metadata": {},
   "outputs": [
    {
     "name": "stdout",
     "output_type": "stream",
     "text": [
      "1 2\n",
      "3 4\n",
      "(4, 6)\n"
     ]
    }
   ],
   "source": [
    "#operator overloading using magic methods\n",
    "class A:\n",
    "    def __init__(self,a,b):\n",
    "        self.a=a\n",
    "        self.b=b\n",
    "        print(self.a,self.b)\n",
    "\n",
    "    def __add__(left,right):\n",
    "        a=left.a+right.a\n",
    "        b=left.b+right.b\n",
    "        return (a,b)\n",
    "        # return (f\"{left.a+right.a},{left.b+right.b}\")\n",
    "\n",
    "\n",
    "obj=A(1,2)\n",
    "obj1=A(3,4)\n",
    "print(obj+obj1)"
   ]
  },
  {
   "cell_type": "code",
   "execution_count": 39,
   "id": "0cd9229a-6600-4d05-9495-9d2028876ae2",
   "metadata": {},
   "outputs": [
    {
     "name": "stdout",
     "output_type": "stream",
     "text": [
      "2 4\n",
      "1 2\n",
      "(1, 2)\n",
      "(2, 8)\n",
      "(2.0, 2.0)\n",
      "(True, True)\n",
      "(False, False)\n",
      "(False, False)\n"
     ]
    }
   ],
   "source": [
    "\"\"\" \n",
    "__mul__\n",
    "__truediv__\n",
    "__sub__\n",
    "__gt__\n",
    "__lt__\n",
    "__eq__\n",
    "\"\"\"\n",
    "class A:\n",
    "    def __init__(self,a,b):\n",
    "        self.a=a\n",
    "        self.b=b\n",
    "        print(self.a,self.b)\n",
    "\n",
    "    def __sub__(left,right):\n",
    "        a=left.a-right.a\n",
    "        b=left.b-right.b\n",
    "        return (a,b)\n",
    "\n",
    "    def __mul__(left,right):\n",
    "            a=left.a*right.a\n",
    "            b=left.b*right.b\n",
    "            return (a,b)\n",
    "\n",
    "    def __truediv__(left,right):\n",
    "            a=left.a/right.a\n",
    "            b=left.b/right.b\n",
    "            return (a,b)\n",
    "\n",
    "    def __gt__(left,right):\n",
    "            a=left.a > right.a\n",
    "            b=left.b > right.b\n",
    "            return (a,b)\n",
    "\n",
    "    def __lt__(left,right):\n",
    "            a=left.a < right.a\n",
    "            b=left.b < right.b\n",
    "            return (a,b)\n",
    "\n",
    "    def __eq__(left,right):\n",
    "            a=left.a == right.a\n",
    "            b=left.b == right.b\n",
    "            return (a,b)\n",
    "    \n",
    "\n",
    "\n",
    "    \n",
    "obj=A(2,4)\n",
    "obj1=A(1,2)\n",
    "print(obj-obj1)\n",
    "print(obj*obj1)\n",
    "print(obj/obj1)\n",
    "print(obj>obj1)\n",
    "print(obj<obj1)\n",
    "print(obj==obj1)"
   ]
  },
  {
   "cell_type": "code",
   "execution_count": 43,
   "id": "51a37936-1979-4943-a700-d08be6ae2773",
   "metadata": {},
   "outputs": [
    {
     "name": "stdout",
     "output_type": "stream",
     "text": [
      "Abstraction.....\n"
     ]
    }
   ],
   "source": [
    "#Abstraction\n",
    "from abc import ABC,abstractmethod\n",
    "class Data(ABC):\n",
    "    @abstractmethod\n",
    "    def show(self):\n",
    "        pass\n",
    "    \n",
    "class Data1(Data):\n",
    "    def show(self):\n",
    "        print(\"Abstraction.....\")\n",
    "\n",
    "obj=Data1()\n",
    "obj.show()"
   ]
  },
  {
   "cell_type": "code",
   "execution_count": null,
   "id": "478607cc-cae6-4800-bbde-f1fc8c2a8b85",
   "metadata": {},
   "outputs": [],
   "source": []
  }
 ],
 "metadata": {
  "kernelspec": {
   "display_name": "Python 3 (ipykernel)",
   "language": "python",
   "name": "python3"
  },
  "language_info": {
   "codemirror_mode": {
    "name": "ipython",
    "version": 3
   },
   "file_extension": ".py",
   "mimetype": "text/x-python",
   "name": "python",
   "nbconvert_exporter": "python",
   "pygments_lexer": "ipython3",
   "version": "3.12.1"
  }
 },
 "nbformat": 4,
 "nbformat_minor": 5
}
