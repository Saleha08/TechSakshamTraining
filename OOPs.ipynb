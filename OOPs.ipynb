{
 "cells": [
  {
   "cell_type": "code",
   "execution_count": 1,
   "id": "872c76f3-a71d-45fb-acff-bbd40bf9c937",
   "metadata": {},
   "outputs": [
    {
     "name": "stdout",
     "output_type": "stream",
     "text": [
      "first method\n"
     ]
    }
   ],
   "source": [
    "class Abc:\n",
    "    def show(self):\n",
    "        print(\"first method\")\n",
    "obj=Abc()\n",
    "obj.show()\n"
   ]
  },
  {
   "cell_type": "code",
   "execution_count": 2,
   "id": "38f14c0e-2623-4421-a790-577d52f60f88",
   "metadata": {},
   "outputs": [
    {
     "name": "stdout",
     "output_type": "stream",
     "text": [
      "My name is saleha and age is 20\n"
     ]
    }
   ],
   "source": [
    "class Abc:\n",
    "    def data(self,name,age):\n",
    "        self.name=name\n",
    "        self.age=age\n",
    "    def show(self):\n",
    "        print(f\"My name is {self.name} and age is {self.age}\")\n",
    "obj=Abc()\n",
    "obj.data(\"saleha\",20)\n",
    "obj.show()"
   ]
  },
  {
   "cell_type": "code",
   "execution_count": 3,
   "id": "78243aa9-8a8d-48d0-9a94-35ebd1cd21b6",
   "metadata": {},
   "outputs": [
    {
     "name": "stdout",
     "output_type": "stream",
     "text": [
      "abc and 23\n"
     ]
    }
   ],
   "source": [
    "#class method\n",
    "class Abc:\n",
    "    @classmethod\n",
    "    def get(cls,name,age):\n",
    "        cls.name=name\n",
    "        cls.age=age\n",
    "        print(f\"{name} and {age}\")\n",
    "Abc.get(\"abc\",23)\n",
    "        \n",
    "\n",
    "    "
   ]
  },
  {
   "cell_type": "code",
   "execution_count": 4,
   "id": "abaaef06-4098-40b6-90b5-f1b7ea26ca7b",
   "metadata": {},
   "outputs": [
    {
     "name": "stdout",
     "output_type": "stream",
     "text": [
      "saleha and 20\n"
     ]
    }
   ],
   "source": [
    "#static method\n",
    "class Abc:\n",
    "    @staticmethod\n",
    "    def set(name,age):\n",
    "        print(f\"{name} and {age}\")\n",
    "Abc.set(\"saleha\",20)\n"
   ]
  },
  {
   "cell_type": "code",
   "execution_count": 23,
   "id": "f142adc4-0652-4640-9693-a8e7f5b672e9",
   "metadata": {},
   "outputs": [
    {
     "name": "stdout",
     "output_type": "stream",
     "text": [
      "I will make free space\n",
      "I  will  be called second\n"
     ]
    }
   ],
   "source": [
    "class Abc:\n",
    "    def ___init__(self):\n",
    "        print(\"I will be called first\")\n",
    "    def show(self):\n",
    "        print(\"I  will  be called second\")\n",
    "obj=Abc()\n",
    "obj.show()\n",
    "\n",
    "        "
   ]
  },
  {
   "cell_type": "code",
   "execution_count": 30,
   "id": "82abef73-71ff-4e2c-9d1f-9900a6fe044f",
   "metadata": {},
   "outputs": [
    {
     "name": "stdout",
     "output_type": "stream",
     "text": [
      "----Deposit Operation----\n",
      "Amount 500 is deposited\n",
      "Your Total balance is 1500\n",
      "----Withdraw Operation----\n",
      "Amount 100 is withdraw\n",
      "Your Total balance is 1400\n",
      "----Checking Balance----\n",
      "Your current balance is 1400\n"
     ]
    }
   ],
   "source": [
    "class Bank:\n",
    "    def __init__(self,name,balance):\n",
    "        self.name=name\n",
    "        self.balance=balance        \n",
    "    def deposit(self,amount):\n",
    "        print(\"----Deposit Operation----\")\n",
    "        self.balance+=amount\n",
    "        print(f\"Amount {amount} is deposited\")\n",
    "        print(f\"Your Total balance is {self.balance}\")\n",
    "        \n",
    "    def withdraw(self,amount):\n",
    "        print(\"----Withdraw Operation----\")\n",
    "        if self.balance < 500:\n",
    "            print(\"Your balance is low .You cannot get the money\")\n",
    "        elif self.balance < amount:\n",
    "            print(f\"Your balance is {self.balance} which is less than the amount you enter\")\n",
    "        elif self.balance-amount<500:\n",
    "            print(f\"if you withdraw {amount} money your balance will be less than minimum amount required by the account\")\n",
    "        else:\n",
    "            self.balance-=amount\n",
    "            print(f\"Amount {amount} is withdraw\")\n",
    "            print(f\"Your Total balance is {self.balance}\")\n",
    "            \n",
    "    def checkbalance(self):\n",
    "        print(\"----Checking Balance----\")\n",
    "        print(f\"Your current balance is {self.balance}\")\n",
    "            \n",
    "obj=Bank(\"saleha\",1000)\n",
    "obj.deposit(500)\n",
    "obj.withdraw(100)\n",
    "obj.checkbalance()\n",
    "        "
   ]
  },
  {
   "cell_type": "code",
   "execution_count": 5,
   "id": "0e1de4a9-3f97-4855-a736-2f916339150d",
   "metadata": {},
   "outputs": [
    {
     "name": "stdin",
     "output_type": "stream",
     "text": [
      "Enter the user name: user1\n",
      "Enter the password: 123\n",
      "Amount: 800\n"
     ]
    },
    {
     "name": "stdout",
     "output_type": "stream",
     "text": [
      "----Your Details----\n",
      "name:saleha\n",
      "amount:1000\n",
      "account_num:123456\n",
      "800 credited in your account total balance is 1000\n",
      "----Your Details----\n",
      "name:saleha\n",
      "amount:900\n",
      "account_num:123456\n",
      "100 debited from your account total balance is 900\n"
     ]
    }
   ],
   "source": [
    "\n",
    "class Bank:\n",
    "    def __init__(self):\n",
    "        self.details={'user1':{123:{'name':'saleha','amount':200,'account_num':123456}},\n",
    "                      'user2':{234:{'name':'ansari','amount':2000,'account_num':678901}}}\n",
    "    def deposit(self,user,password,depo):\n",
    "       self.details[user][password]['amount']+=depo\n",
    "       print(\"----Your Details----\")\n",
    "       for i in self.details[user][password]:\n",
    "           print(f\"{i}:{self.details[user][password][i]}\")\n",
    "       print(f\"{depo} credited in your account total balance is {self.details[user][password]['amount']}\")\n",
    "        \n",
    "    def withdraw(self,user,password,debit):\n",
    "       self.details[user][password]['amount']-=debit\n",
    "       print(\"----Your Details----\")\n",
    "       for i in self.details[user][password]:\n",
    "           print(f\"{i}:{self.details[user][password][i]}\")\n",
    "       print(f\"{debit} debited from your account total balance is {self.details[user][password]['amount']}\")\n",
    "        \n",
    "obj=Bank()\n",
    "user=input(\"Enter the user name:\")\n",
    "pass1=int(input(\"Enter the password:\"))\n",
    "amount=int(input(\"Amount:\"))\n",
    "obj.deposit(user,pass1,amount)\n",
    "obj.withdraw('user1',123,100)\n",
    "                      "
   ]
  },
  {
   "cell_type": "code",
   "execution_count": null,
   "id": "490e750f-c193-4bb7-a7b2-e025422c5b46",
   "metadata": {},
   "outputs": [],
   "source": []
  }
 ],
 "metadata": {
  "kernelspec": {
   "display_name": "Python 3 (ipykernel)",
   "language": "python",
   "name": "python3"
  },
  "language_info": {
   "codemirror_mode": {
    "name": "ipython",
    "version": 3
   },
   "file_extension": ".py",
   "mimetype": "text/x-python",
   "name": "python",
   "nbconvert_exporter": "python",
   "pygments_lexer": "ipython3",
   "version": "3.12.1"
  }
 },
 "nbformat": 4,
 "nbformat_minor": 5
}
