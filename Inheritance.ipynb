{
 "cells": [
  {
   "cell_type": "code",
   "execution_count": 3,
   "id": "ad222ca1-bdd6-41e0-9f1c-3a2b1e606a36",
   "metadata": {},
   "outputs": [
    {
     "name": "stdout",
     "output_type": "stream",
     "text": [
      "My father gifted me BMW\n"
     ]
    }
   ],
   "source": [
    "class Parent:\n",
    "    def __init__(self,house,car):\n",
    "        self.house=house\n",
    "        self.car=car\n",
    "        \n",
    "class Child(Parent):\n",
    "    def cshow(self):\n",
    "        print(f\"My father gifted me {self.car}\")\n",
    "        \n",
    "obj=Child('Bunglow','BMW')\n",
    "obj.cshow()"
   ]
  },
  {
   "cell_type": "code",
   "execution_count": 7,
   "id": "de26dcd7-ee41-489e-96d3-a2467e969070",
   "metadata": {},
   "outputs": [
    {
     "name": "stdout",
     "output_type": "stream",
     "text": [
      "Bunglow\n",
      "BMW\n"
     ]
    }
   ],
   "source": [
    "#constructor in both inherited class and parent class\n",
    "class Parent:\n",
    "    def __init__(self,house):\n",
    "        self.house=house\n",
    "        print(house)\n",
    "class Child(Parent):\n",
    "    def __init__(self,house,car):\n",
    "        super().__init__(house)\n",
    "        self.car=car\n",
    "        print(car)\n",
    "\n",
    "obj=Child('Bunglow','BMW')\n"
   ]
  },
  {
   "cell_type": "code",
   "execution_count": 12,
   "id": "1783b03a-c129-42ac-92e9-1313b974ca8d",
   "metadata": {},
   "outputs": [
    {
     "name": "stdout",
     "output_type": "stream",
     "text": [
      "My name is Grand Pa. I have Child and GrandChild\n",
      "My father is Grand Pa and i have a child\n",
      "My grandfather name is Grand Pa and i love him\n"
     ]
    }
   ],
   "source": [
    "#multilevel inheritance\n",
    "class A:\n",
    "    def __init__(self,name):\n",
    "        self.name=name\n",
    "        print(f\"My name is {self.name}. I have Child and GrandChild\")\n",
    "class B(A):\n",
    "    def show(self):\n",
    "        print(f\"My father is {self.name} and i have a child\")\n",
    "class C(B):\n",
    "    def show2(self):\n",
    "        print(f\"My grandfather name is {self.name} and i love him\")\n",
    "obj=C(\"Grand Pa\")\n",
    "obj.show()\n",
    "obj.show2()"
   ]
  },
  {
   "cell_type": "code",
   "execution_count": 2,
   "id": "83b0c102-562b-47c9-9d31-d35949906474",
   "metadata": {},
   "outputs": [
    {
     "name": "stdout",
     "output_type": "stream",
     "text": [
      "Class Name :B\n",
      "College Name:WIT\n"
     ]
    }
   ],
   "source": [
    "#multiple inheritance\n",
    "class ClassData:\n",
    "    def __init__(self,clsname):\n",
    "        self.clsname=clsname\n",
    "        print(f\"Class Name :{self.clsname}\")\n",
    "\n",
    "class CollegeData:\n",
    "    def __init__(self,clgname):\n",
    "        self.clgname=clgname\n",
    "        print(f\"College Name:{self.clgname}\")\n",
    "        \n",
    "class StudentData(ClassData,CollegeData):\n",
    "    def __init__(self,name,clsname,clgname):\n",
    "        ClassData.__init__(self,clsname)\n",
    "        CollegeData.__init__(self,clgname)\n",
    "obj=StudentData(\"Saleha\",\"B\",\"WIT\")"
   ]
  },
  {
   "cell_type": "code",
   "execution_count": 4,
   "id": "8b8c8e64-2635-4ac3-a12f-aa3971a40166",
   "metadata": {},
   "outputs": [
    {
     "name": "stdout",
     "output_type": "stream",
     "text": [
      "Addition of two numbers are 3\n"
     ]
    }
   ],
   "source": [
    "#hirarchy\n",
    "class A:\n",
    "    def __init__(self,a):\n",
    "        self.a=a\n",
    "\n",
    "class B(A):\n",
    "    pass\n",
    "\n",
    "class C(A):\n",
    "    pass\n",
    "\n",
    "class D(A):\n",
    "    def __init__(self,a,b):\n",
    "        self.b=b\n",
    "        super().__init__(a)\n",
    "        print(f\"Addition of two numbers are {self.a+self.b}\")\n",
    "obj=D(1,2)\n",
    "        "
   ]
  },
  {
   "cell_type": "code",
   "execution_count": 10,
   "id": "94dee1aa-d55d-4069-b1b8-cd43db0ab34e",
   "metadata": {},
   "outputs": [
    {
     "name": "stdout",
     "output_type": "stream",
     "text": [
      "I am student 1\n",
      "I am student 2\n",
      "I am student 3\n",
      "I am teacher of student 1 and student 2\n"
     ]
    }
   ],
   "source": [
    "#Hybrid\n",
    "class student1:\n",
    "    def show1(self):\n",
    "        print(\"I am student 1\")\n",
    "\n",
    "class student2(student1):\n",
    "    def show2(self):\n",
    "        print(\"I am student 2\")\n",
    "\n",
    "class student3:\n",
    "    def show3(self):\n",
    "        print(\"I am student 3\")\n",
    "\n",
    "class Teacher(student2,student3):\n",
    "    def show4(self):\n",
    "        print(\"I am teacher of student 1 and student 2\")\n",
    "\n",
    "obj=Teacher()\n",
    "obj.show1()\n",
    "obj.show2()\n",
    "obj.show3()\n",
    "obj.show4()\n",
    "    "
   ]
  },
  {
   "cell_type": "code",
   "execution_count": null,
   "id": "7a5ffd3a-ce58-4043-b1d8-b1f67e218ada",
   "metadata": {},
   "outputs": [],
   "source": []
  }
 ],
 "metadata": {
  "kernelspec": {
   "display_name": "Python 3 (ipykernel)",
   "language": "python",
   "name": "python3"
  },
  "language_info": {
   "codemirror_mode": {
    "name": "ipython",
    "version": 3
   },
   "file_extension": ".py",
   "mimetype": "text/x-python",
   "name": "python",
   "nbconvert_exporter": "python",
   "pygments_lexer": "ipython3",
   "version": "3.12.1"
  }
 },
 "nbformat": 4,
 "nbformat_minor": 5
}
