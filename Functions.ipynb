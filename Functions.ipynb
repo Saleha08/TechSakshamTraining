{
 "cells": [
  {
   "cell_type": "code",
   "execution_count": 7,
   "id": "81f3d0d6-b40e-498c-8c4f-a6887d571d25",
   "metadata": {},
   "outputs": [
    {
     "name": "stdout",
     "output_type": "stream",
     "text": [
      "This is the first function in python\n",
      "My name is Saleha my age is 20 and i live in Solapur\n",
      "My name is saleha my age is 20 and i live in pune\n",
      "My name is saleha my age is 20 and i live in pune\n",
      "(1, 2, 3, 4, 5, 6)\n",
      "{'a': 1, 'b': 2, 'c': 3}\n"
     ]
    }
   ],
   "source": [
    "#1.simple function\n",
    "def Data():\n",
    "    print(\"This is the first function in python\")\n",
    "Data()\n",
    "\n",
    "#2.paramaterized function with positional argument\n",
    "def Data(name,age,city):\n",
    "    print(f\"My name is {name} my age is {age} and i live in {city}\")\n",
    "Data(\"Saleha\",20,\"Solapur\")\n",
    "\n",
    "#3.Function with keyword argument\n",
    "def Data(name,age,city):\n",
    "    print(f\"My name is {name} my age is {age} and i live in {city}\")\n",
    "Data(age=20,name=\"saleha\",city=\"pune\")\n",
    "\n",
    "#4.Default parameterized function\n",
    "def Data(name,age,city=\"pune\"):\n",
    "    print(f\"My name is {name} my age is {age} and i live in {city}\")\n",
    "Data(\"saleha\",20)\n",
    "\n",
    "#5. Variable length function\n",
    "def ABC(*a):\n",
    "    print(a)\n",
    "ABC(1,2,3,4,5,6)\n",
    "\n",
    "# Keyword argument variable length function\n",
    "def Add(**a):\n",
    "    print(a)\n",
    "Add(a=1,b=2,c=3)\n",
    "\n",
    "\n",
    "\n",
    "\n",
    "\n"
   ]
  },
  {
   "cell_type": "code",
   "execution_count": 9,
   "id": "da8f077b-2200-4de1-ab6c-abfb8c238b01",
   "metadata": {},
   "outputs": [
    {
     "name": "stdout",
     "output_type": "stream",
     "text": [
      "15\n"
     ]
    }
   ],
   "source": [
    "def Add(*args):\n",
    "    sum=0\n",
    "    for i in args:\n",
    "       sum+=i\n",
    "    print(sum)\n",
    "Add(1,2,3,4,5)"
   ]
  },
  {
   "cell_type": "code",
   "execution_count": 13,
   "id": "4781131e-1bd1-4b3e-b723-988388e76d58",
   "metadata": {},
   "outputs": [
    {
     "name": "stdout",
     "output_type": "stream",
     "text": [
      "3\n",
      "6\n",
      "5\n"
     ]
    }
   ],
   "source": [
    "def length(a):\n",
    "    count=0\n",
    "    for i in a:\n",
    "        count+=1\n",
    "    print(count)\n",
    "length(('s','a','l'))\n",
    "length(\"saleha\")\n",
    "length([1,2,3,4,5])"
   ]
  },
  {
   "cell_type": "code",
   "execution_count": 14,
   "id": "78d11e66-4688-442a-a7df-5753c3d18c0d",
   "metadata": {},
   "outputs": [
    {
     "name": "stdout",
     "output_type": "stream",
     "text": [
      "3\n"
     ]
    }
   ],
   "source": [
    "def length(num):\n",
    "    count=0\n",
    "    while(num!=0):\n",
    "        num=num//10\n",
    "        count+=1\n",
    "    print(count)\n",
    "n=123\n",
    "length(n)"
   ]
  },
  {
   "cell_type": "code",
   "execution_count": 20,
   "id": "637dfea8-2daa-4a08-8f7b-1b47d7a74e6e",
   "metadata": {},
   "outputs": [
    {
     "name": "stdout",
     "output_type": "stream",
     "text": [
      "SALEHA\n",
      "saleha\n"
     ]
    }
   ],
   "source": [
    "def UpperCase(s):\n",
    "    result=\"\"\n",
    "    for i in s:\n",
    "        result+=chr(ord(i)-32)\n",
    "    print(result)\n",
    "UpperCase(\"saleha\")\n",
    "\n",
    "def LowerCase(s):\n",
    "    result=\"\"\n",
    "    for i in s:\n",
    "        result+=chr(ord(i)+32)\n",
    "    print(result)\n",
    "LowerCase(\"SALEHA\")"
   ]
  },
  {
   "cell_type": "code",
   "execution_count": 21,
   "id": "7c715db4-397c-4e2c-b4ac-5d0df20fff5b",
   "metadata": {},
   "outputs": [
    {
     "name": "stdout",
     "output_type": "stream",
     "text": [
      "Saleha Ansari\n"
     ]
    }
   ],
   "source": [
    "def cap(s):\n",
    "    words = s.split()\n",
    "    cap_words = [word[0].upper() + word[1:] for word in words]\n",
    "    cap_string = ' '.join(cap_words)\n",
    "    return cap_string\n",
    "i_s = \"saleha ansari\"\n",
    "o_s= cap(i_s)\n",
    "print(o_s)"
   ]
  },
  {
   "cell_type": "code",
   "execution_count": 24,
   "id": "0638d85b-3a12-42a6-8a11-f52a5b8faa66",
   "metadata": {},
   "outputs": [
    {
     "name": "stdout",
     "output_type": "stream",
     "text": [
      "MY NAME IS SALEHA......\n"
     ]
    }
   ],
   "source": [
    "def uppercase(input_string):\n",
    "    result = \"\"\n",
    "    for i in input_string:  \n",
    "        if 'a' <= i <= 'z':\n",
    "            cap = ord(i) - 32\n",
    "            result += chr(cap)\n",
    "        else:\n",
    "            result += i\n",
    "    return result\n",
    "inp = \"my name is saleha......\"\n",
    "result = uppercase(inp)\n",
    "print(result)"
   ]
  },
  {
   "cell_type": "code",
   "execution_count": 26,
   "id": "97f9cae9-d8e3-44ca-9400-fd3d5b8f6b48",
   "metadata": {},
   "outputs": [
    {
     "name": "stdout",
     "output_type": "stream",
     "text": [
      "my name is saleha......\n"
     ]
    }
   ],
   "source": [
    "def lowercase(input_string):\n",
    "    result = \"\"\n",
    "    for i in input_string:  \n",
    "        if 'A' <= i <= 'Z':\n",
    "            cap = ord(i) + 32\n",
    "            result += chr(cap)\n",
    "        else:\n",
    "            result += i\n",
    "    return result\n",
    "inp = \"my name is saleha......\"\n",
    "result = lowercase(inp)\n",
    "print(result)"
   ]
  },
  {
   "cell_type": "code",
   "execution_count": 30,
   "id": "7e0e2d15-8ea1-4aa4-8e33-05b9136d6e0d",
   "metadata": {},
   "outputs": [
    {
     "name": "stdout",
     "output_type": "stream",
     "text": [
      "1\n",
      "2\n",
      "3\n",
      "4\n",
      "5\n",
      "6\n",
      "7\n",
      "8\n",
      "9\n",
      "10\n"
     ]
    }
   ],
   "source": [
    "#1 to 10 numbers using reccursion\n",
    "def numbers(n):\n",
    "    if n==0:\n",
    "        return\n",
    "    numbers(n-1)\n",
    "    print(n)\n",
    "numbers(10)\n",
    "    \n",
    "    "
   ]
  },
  {
   "cell_type": "code",
   "execution_count": 35,
   "id": "c31a0d13-7cdb-4f73-984c-24a8d849d2cb",
   "metadata": {},
   "outputs": [
    {
     "name": "stdout",
     "output_type": "stream",
     "text": [
      "1 2 3 4 5 6 7 8 9 10 \n",
      "2 4 6 8 10 12 14 16 18 20 \n",
      "3 6 9 12 15 18 21 24 27 30 \n",
      "4 8 12 16 20 24 28 32 36 40 \n",
      "5 10 15 20 25 30 35 40 45 50 \n",
      "6 12 18 24 30 36 42 48 54 60 \n",
      "7 14 21 28 35 42 49 56 63 70 \n",
      "8 16 24 32 40 48 56 64 72 80 \n",
      "9 18 27 36 45 54 63 72 81 90 \n",
      "10 20 30 40 50 60 70 80 90 100 \n"
     ]
    }
   ],
   "source": [
    "# 1 to 10 tables\n",
    "def tables(n):\n",
    "    def inner(n1):\n",
    "        print(n*n1,end=\" \")\n",
    "        n1+=1\n",
    "        if n1<=10:\n",
    "            return inner(n1)\n",
    "    inner(1)\n",
    "    print()\n",
    "    n+=1\n",
    "    if n<=10:\n",
    "        return tables(n)\n",
    "tables(1)\n",
    "        \n",
    "    \n",
    "        \n",
    "    "
   ]
  },
  {
   "cell_type": "code",
   "execution_count": 38,
   "id": "1ffd6432-bbe3-47d2-be8c-909e7af3f493",
   "metadata": {},
   "outputs": [
    {
     "name": "stdout",
     "output_type": "stream",
     "text": [
      "[1, 4, 9, 16, 25, 36]\n"
     ]
    }
   ],
   "source": [
    "def square(a):\n",
    "    for i in range(0,len(a)):\n",
    "        a[i]=a[i]**2\n",
    "    return a\n",
    "l=[1,2,3,4,5,6]\n",
    "print(square(l))\n",
    "        \n",
    "        "
   ]
  },
  {
   "cell_type": "code",
   "execution_count": 40,
   "id": "18b787e5-c352-4133-9a42-8f794126c8ef",
   "metadata": {},
   "outputs": [
    {
     "name": "stdout",
     "output_type": "stream",
     "text": [
      "3\n"
     ]
    }
   ],
   "source": [
    "# lambda function or anamalous function\n",
    "# a=lambda parameters: expression\n",
    "a=lambda a,b:a+b\n",
    "print(a(1,2))"
   ]
  },
  {
   "cell_type": "code",
   "execution_count": 46,
   "id": "ed87030b-000a-421e-bdb4-c0f6c7abb18e",
   "metadata": {},
   "outputs": [
    {
     "name": "stdout",
     "output_type": "stream",
     "text": [
      "12\n",
      "13\n"
     ]
    }
   ],
   "source": [
    "#generator function\n",
    "def  Abc():\n",
    "    yield 12\n",
    "    yield 13\n",
    "n=Abc()\n",
    "print(next(n))\n",
    "print(next(n))"
   ]
  },
  {
   "cell_type": "code",
   "execution_count": null,
   "id": "dfe4c315-4e0e-4650-bf0b-0c3853e7ef69",
   "metadata": {},
   "outputs": [],
   "source": []
  }
 ],
 "metadata": {
  "kernelspec": {
   "display_name": "Python 3 (ipykernel)",
   "language": "python",
   "name": "python3"
  },
  "language_info": {
   "codemirror_mode": {
    "name": "ipython",
    "version": 3
   },
   "file_extension": ".py",
   "mimetype": "text/x-python",
   "name": "python",
   "nbconvert_exporter": "python",
   "pygments_lexer": "ipython3",
   "version": "3.12.1"
  }
 },
 "nbformat": 4,
 "nbformat_minor": 5
}
