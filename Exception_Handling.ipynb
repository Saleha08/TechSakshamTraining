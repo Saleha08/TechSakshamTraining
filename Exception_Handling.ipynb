{
 "cells": [
  {
   "cell_type": "code",
   "execution_count": null,
   "id": "e41350a2-b619-4659-9fc8-b3a69d43361d",
   "metadata": {},
   "outputs": [],
   "source": [
    "#exception handling\n",
    "\n",
    "\"\"\" \n",
    "try:\n",
    "   main logic of application\n",
    "except:\n",
    "   here your error get raise if it found in try \n",
    "\n",
    "\"\"\"\n"
   ]
  },
  {
   "cell_type": "code",
   "execution_count": 2,
   "id": "a703c30c-edbf-4d9b-85d2-41c561ac877a",
   "metadata": {},
   "outputs": [
    {
     "name": "stdout",
     "output_type": "stream",
     "text": [
      "Try is working fine...\n",
      "Error in code\n"
     ]
    }
   ],
   "source": [
    "try:\n",
    "    print(\"Try is working fine...\")\n",
    "    a=1/0\n",
    "except:\n",
    "    print(\"Error in code\")"
   ]
  },
  {
   "cell_type": "code",
   "execution_count": 3,
   "id": "3f76c49d-121d-4c38-9a05-e21fabc60257",
   "metadata": {},
   "outputs": [
    {
     "name": "stdout",
     "output_type": "stream",
     "text": [
      "division by zero\n"
     ]
    }
   ],
   "source": [
    "try:\n",
    "    a=1/0\n",
    "except Exception as a:\n",
    "    print(a)"
   ]
  },
  {
   "cell_type": "code",
   "execution_count": 4,
   "id": "0405ffaa-2fe0-4d06-9f7d-d34ee9d7480b",
   "metadata": {},
   "outputs": [
    {
     "name": "stdout",
     "output_type": "stream",
     "text": [
      "list index out of range\n",
      "Always run..\n"
     ]
    }
   ],
   "source": [
    "try:\n",
    "    a=[1,2]\n",
    "    print(a[6])\n",
    "    print(\"Working...\")\n",
    "except Exception as a:\n",
    "    print(a)\n",
    "else:\n",
    "    print(\"Try executed successfully\")\n",
    "finally:\n",
    "    print(\"Always run..\")"
   ]
  },
  {
   "cell_type": "code",
   "execution_count": 8,
   "id": "bbe800e7-14c1-4742-bbd9-4bdc8c23377d",
   "metadata": {},
   "outputs": [
    {
     "name": "stdout",
     "output_type": "stream",
     "text": [
      "----Showing Cars Based on your range-----\n",
      "{'price': 500000, 'features': 'Good average....best car', 'company': 'Tata'}\n",
      "{'price': 1000000, 'features': 'Good average....best car', 'company': 'A'}\n"
     ]
    }
   ],
   "source": [
    "Data={'ABC':{'price':500000,'features':\"Good average....best car\",'company':'Tata'},\n",
    "      'XYZ':{'price':1000000,'features':\"Good average....best car\",'company':'A'},\n",
    "      'PQR':{'price':1200000,'features':\"Good average....best car\",'company':'B'},\n",
    "      'SSA':{'price':1400000,'features':\"Good average....best car\",'company':'C'}}\n",
    "\n",
    "def carDekho(minPrice, maxPrice):\n",
    "    print(\"----Showing Cars Based on your range-----\")\n",
    "    for i in Data:\n",
    "        if Data[i]['price'] >= minPrice and Data[i]['price'] <= maxPrice:\n",
    "            print(Data[i])\n",
    "  \n",
    "\n",
    "carDekho(500000, 1000000)\n",
    "\n",
    "    "
   ]
  },
  {
   "cell_type": "code",
   "execution_count": null,
   "id": "e0d1bf8b-4323-436a-a776-6660b9209b93",
   "metadata": {},
   "outputs": [],
   "source": []
  }
 ],
 "metadata": {
  "kernelspec": {
   "display_name": "Python 3 (ipykernel)",
   "language": "python",
   "name": "python3"
  },
  "language_info": {
   "codemirror_mode": {
    "name": "ipython",
    "version": 3
   },
   "file_extension": ".py",
   "mimetype": "text/x-python",
   "name": "python",
   "nbconvert_exporter": "python",
   "pygments_lexer": "ipython3",
   "version": "3.12.1"
  }
 },
 "nbformat": 4,
 "nbformat_minor": 5
}
